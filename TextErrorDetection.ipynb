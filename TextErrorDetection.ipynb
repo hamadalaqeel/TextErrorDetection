{
  "nbformat": 4,
  "nbformat_minor": 0,
  "metadata": {
    "colab": {
      "name": "TextErrorDetection.ipynb",
      "provenance": []
    },
    "kernelspec": {
      "name": "python3",
      "display_name": "Python 3"
    }
  },
  "cells": [
    {
      "cell_type": "markdown",
      "metadata": {
        "id": "inKkdgKJqCo_",
        "colab_type": "text"
      },
      "source": [
        "Before starting, I recommend checking the following link which helped me a lot http://norvig.com/spell-correct.html."
      ]
    },
    {
      "cell_type": "code",
      "metadata": {
        "id": "S4UVp_zMpahj",
        "colab_type": "code",
        "colab": {}
      },
      "source": [
        "# importing libs\n",
        "import re\n",
        "import random\n",
        "import math\n",
        "import string\n",
        "from collections import Counter"
      ],
      "execution_count": 0,
      "outputs": []
    },
    {
      "cell_type": "code",
      "metadata": {
        "id": "TXwgl7y9qQaF",
        "colab_type": "code",
        "colab": {
          "base_uri": "https://localhost:8080/",
          "height": 34
        },
        "outputId": "ca574657-4406-4a5a-a629-0577d49d9554"
      },
      "source": [
        "#reading file and checking the length\n",
        "TEXT = open('big.txt').read()\n",
        "print(\"Number of characters: \" , len(TEXT))"
      ],
      "execution_count": 5,
      "outputs": [
        {
          "output_type": "stream",
          "text": [
            "Number of characters:  6488666\n"
          ],
          "name": "stdout"
        }
      ]
    },
    {
      "cell_type": "code",
      "metadata": {
        "id": "5LhSo0zVqnRb",
        "colab_type": "code",
        "colab": {}
      },
      "source": [
        "# Method to normalize text to lowercase\n",
        "def tokens(text):\n",
        "    return re.findall('[a-z]+', text.lower()) "
      ],
      "execution_count": 0,
      "outputs": []
    },
    {
      "cell_type": "code",
      "metadata": {
        "id": "faSA3gwVq-D3",
        "colab_type": "code",
        "colab": {
          "base_uri": "https://localhost:8080/",
          "height": 34
        },
        "outputId": "3c1c0c15-f542-49a9-a099-a0896a8c31a2"
      },
      "source": [
        "#testing tokens methods\n",
        "tokens('I am testing the TOKENS MeThod')"
      ],
      "execution_count": 10,
      "outputs": [
        {
          "output_type": "execute_result",
          "data": {
            "text/plain": [
              "['i', 'am', 'testing', 'the', 'tokens', 'method']"
            ]
          },
          "metadata": {
            "tags": []
          },
          "execution_count": 10
        }
      ]
    },
    {
      "cell_type": "code",
      "metadata": {
        "id": "tlLenTGYrGDv",
        "colab_type": "code",
        "colab": {}
      },
      "source": [
        "# now we'll use the method\n",
        "WORDS = tokens(TEXT)"
      ],
      "execution_count": 0,
      "outputs": []
    },
    {
      "cell_type": "code",
      "metadata": {
        "id": "OSgqKffqrLWe",
        "colab_type": "code",
        "colab": {
          "base_uri": "https://localhost:8080/",
          "height": 34
        },
        "outputId": "53a9a2b3-6e52-4c60-dc43-fcf5fa81085b"
      },
      "source": [
        "print(\"Number of words: \",len(WORDS))"
      ],
      "execution_count": 16,
      "outputs": [
        {
          "output_type": "stream",
          "text": [
            "Number of words:  1105285\n"
          ],
          "name": "stdout"
        }
      ]
    },
    {
      "cell_type": "code",
      "metadata": {
        "id": "ph4szYtQrecX",
        "colab_type": "code",
        "colab": {
          "base_uri": "https://localhost:8080/",
          "height": 34
        },
        "outputId": "8ae5fe36-478a-4618-ecd2-307579c64137"
      },
      "source": [
        "# Top 10 words\n",
        "print(WORDS[:10])"
      ],
      "execution_count": 17,
      "outputs": [
        {
          "output_type": "stream",
          "text": [
            "['the', 'project', 'gutenberg', 'ebook', 'of', 'the', 'adventures', 'of', 'sherlock', 'holmes']\n"
          ],
          "name": "stdout"
        }
      ]
    },
    {
      "cell_type": "markdown",
      "metadata": {
        "id": "oyTzF34rrvcQ",
        "colab_type": "text"
      },
      "source": [
        " Here we are using a model that is known as \"Bag of words\" We know that language is very complicated, but we can create a simplified model of language that captures part of the complexity. In this model, we avoid the order of words, but carry their frequencies. Here's a function to sample an n word sentence from a bag of words:\n"
      ]
    },
    {
      "cell_type": "code",
      "metadata": {
        "id": "u8c88L7xro6u",
        "colab_type": "code",
        "colab": {}
      },
      "source": [
        "def sample(bag, n=10):\n",
        "    return ' '.join(random.choice(bag) for _ in range(n))"
      ],
      "execution_count": 0,
      "outputs": []
    },
    {
      "cell_type": "code",
      "metadata": {
        "id": "NIyNRPnYr2yc",
        "colab_type": "code",
        "colab": {
          "base_uri": "https://localhost:8080/",
          "height": 34
        },
        "outputId": "240d83c7-82fd-4efa-8626-1d977144a8f7"
      },
      "source": [
        "#testing the sample methods\n",
        "sample(WORDS)"
      ],
      "execution_count": 25,
      "outputs": [
        {
          "output_type": "execute_result",
          "data": {
            "text/plain": [
              "'forceps free which extensive used and from left name been'"
            ]
          },
          "metadata": {
            "tags": []
          },
          "execution_count": 25
        }
      ]
    },
    {
      "cell_type": "code",
      "metadata": {
        "id": "oOlyb7nHr67c",
        "colab_type": "code",
        "colab": {
          "base_uri": "https://localhost:8080/",
          "height": 34
        },
        "outputId": "75cabfbc-c414-412d-b337-3cd8942b9a2f"
      },
      "source": [
        "#Here we'll use what is known as Counter to count how many time a words has been repeated\n",
        "Counter(tokens('Hi, this is a test to test the test'))"
      ],
      "execution_count": 28,
      "outputs": [
        {
          "output_type": "execute_result",
          "data": {
            "text/plain": [
              "Counter({'a': 1, 'hi': 1, 'is': 1, 'test': 3, 'the': 1, 'this': 1, 'to': 1})"
            ]
          },
          "metadata": {
            "tags": []
          },
          "execution_count": 28
        }
      ]
    },
    {
      "cell_type": "markdown",
      "metadata": {
        "id": "3zXJAi7etHHx",
        "colab_type": "text"
      },
      "source": [
        "Another way to use this model is \"Counter\", which is a dictionary of {'word': count} pairs"
      ]
    },
    {
      "cell_type": "code",
      "metadata": {
        "id": "6_MUVUnzsZFb",
        "colab_type": "code",
        "colab": {
          "base_uri": "https://localhost:8080/",
          "height": 54
        },
        "outputId": "0e376536-376b-41da-8564-b83e433e1369"
      },
      "source": [
        "COUNTS = Counter(WORDS)\n",
        "\n",
        "print (COUNTS.most_common(10))"
      ],
      "execution_count": 29,
      "outputs": [
        {
          "output_type": "stream",
          "text": [
            "[('the', 80030), ('of', 40025), ('and', 38313), ('to', 28766), ('in', 22050), ('a', 21155), ('that', 12512), ('he', 12401), ('was', 11410), ('it', 10681)]\n"
          ],
          "name": "stdout"
        }
      ]
    },
    {
      "cell_type": "code",
      "metadata": {
        "id": "qv1_M-3otKh7",
        "colab_type": "code",
        "colab": {
          "base_uri": "https://localhost:8080/",
          "height": 170
        },
        "outputId": "ceebaa35-bcd8-462b-a0e9-fb8c33210c8a"
      },
      "source": [
        "# here, we'll give a text and see how many time a words was repeated from the 'big.txt' file\n",
        "for w in tokens('pound is widely expected to take another sharp drive '):\n",
        "    print (COUNTS[w], w)"
      ],
      "execution_count": 33,
      "outputs": [
        {
          "output_type": "stream",
          "text": [
            "7 pound\n",
            "9774 is\n",
            "65 widely\n",
            "126 expected\n",
            "28766 to\n",
            "616 take\n",
            "841 another\n",
            "83 sharp\n",
            "86 drive\n"
          ],
          "name": "stdout"
        }
      ]
    },
    {
      "cell_type": "markdown",
      "metadata": {
        "id": "g2gN0pcnuSpX",
        "colab_type": "text"
      },
      "source": [
        "A Method to find the best spelling correction for this word."
      ]
    },
    {
      "cell_type": "code",
      "metadata": {
        "id": "qceb8wSQtTFs",
        "colab_type": "code",
        "colab": {}
      },
      "source": [
        "def correct(word):\n",
        "    \"Find the best spelling correction for this word.\"\n",
        "    # Prefer edit distance 0, then 1, then 2; otherwise default to word itself.\n",
        "    candidates = (known(edits0(word)) or \n",
        "                  known(edits1(word)) or \n",
        "                  known(edits2(word)) or \n",
        "                  [word])\n",
        "    return max(candidates, key=COUNTS.get)\n"
      ],
      "execution_count": 0,
      "outputs": []
    },
    {
      "cell_type": "markdown",
      "metadata": {
        "id": "WPJWIjKWugnz",
        "colab_type": "text"
      },
      "source": [
        "Method to return the subset of words that are actually in the dictionary."
      ]
    },
    {
      "cell_type": "code",
      "metadata": {
        "id": "985EYhHHtlei",
        "colab_type": "code",
        "colab": {}
      },
      "source": [
        "def known(words):\n",
        "    return {w for w in words if w in COUNTS}"
      ],
      "execution_count": 0,
      "outputs": []
    },
    {
      "cell_type": "markdown",
      "metadata": {
        "id": "Lfi0ATWSuqZp",
        "colab_type": "text"
      },
      "source": [
        "Method to return all strings that are zero edits away from word (i.e., just word itself)."
      ]
    },
    {
      "cell_type": "code",
      "metadata": {
        "id": "47DR_X7bup9k",
        "colab_type": "code",
        "colab": {}
      },
      "source": [
        "def edits0(word): \n",
        "    return {word}"
      ],
      "execution_count": 0,
      "outputs": []
    },
    {
      "cell_type": "markdown",
      "metadata": {
        "id": "7mtSaJxRu0G-",
        "colab_type": "text"
      },
      "source": [
        "Method to return all strings that are two edits away from this word"
      ]
    },
    {
      "cell_type": "code",
      "metadata": {
        "id": "mFbxLidltsKu",
        "colab_type": "code",
        "colab": {}
      },
      "source": [
        "def edits2(word):\n",
        "    return {e2 for e1 in edits1(word) for e2 in edits1(e1)}\n"
      ],
      "execution_count": 0,
      "outputs": []
    },
    {
      "cell_type": "markdown",
      "metadata": {
        "id": "S3koONyYu524",
        "colab_type": "text"
      },
      "source": [
        "Method to return all strings that are one edit away from this word."
      ]
    },
    {
      "cell_type": "code",
      "metadata": {
        "id": "LS9iUETQtuCf",
        "colab_type": "code",
        "colab": {}
      },
      "source": [
        "def edits1(word):\n",
        "    pairs      = splits(word)\n",
        "    deletes    = [a+b[1:]           for (a, b) in pairs if b]\n",
        "    transposes = [a+b[1]+b[0]+b[2:] for (a, b) in pairs if len(b) > 1]\n",
        "    replaces   = [a+c+b[1:]         for (a, b) in pairs for c in alphabet if b]\n",
        "    inserts    = [a+c+b             for (a, b) in pairs for c in alphabet]\n",
        "    return set(deletes + transposes + replaces + inserts)"
      ],
      "execution_count": 0,
      "outputs": []
    },
    {
      "cell_type": "markdown",
      "metadata": {
        "id": "avQxrsbKvEz4",
        "colab_type": "text"
      },
      "source": [
        "Method to return a list of all possible (first, rest) pairs that comprise word."
      ]
    },
    {
      "cell_type": "code",
      "metadata": {
        "id": "bATwHnKAu-Tx",
        "colab_type": "code",
        "colab": {}
      },
      "source": [
        "def splits(word):\n",
        "    return [(word[:i], word[i:]) \n",
        "            for i in range(len(word)+1)]\n"
      ],
      "execution_count": 0,
      "outputs": []
    },
    {
      "cell_type": "code",
      "metadata": {
        "id": "SRdAZm6DvL0b",
        "colab_type": "code",
        "colab": {}
      },
      "source": [
        "#listing the alphabet letters\n",
        "alphabet = 'abcdefghijklmnopqrstuvwxyz'\n"
      ],
      "execution_count": 0,
      "outputs": []
    },
    {
      "cell_type": "code",
      "metadata": {
        "id": "0mEO39CtvbD2",
        "colab_type": "code",
        "colab": {
          "base_uri": "https://localhost:8080/",
          "height": 187
        },
        "outputId": "cb3a7bd4-d56a-4582-f3d7-60bb8b253140"
      },
      "source": [
        "#testing the splits method\n",
        "splits('sometimes')\n"
      ],
      "execution_count": 47,
      "outputs": [
        {
          "output_type": "execute_result",
          "data": {
            "text/plain": [
              "[('', 'sometimes'),\n",
              " ('s', 'ometimes'),\n",
              " ('so', 'metimes'),\n",
              " ('som', 'etimes'),\n",
              " ('some', 'times'),\n",
              " ('somet', 'imes'),\n",
              " ('someti', 'mes'),\n",
              " ('sometim', 'es'),\n",
              " ('sometime', 's'),\n",
              " ('sometimes', '')]"
            ]
          },
          "metadata": {
            "tags": []
          },
          "execution_count": 47
        }
      ]
    },
    {
      "cell_type": "code",
      "metadata": {
        "id": "AvY9cIcnvhBk",
        "colab_type": "code",
        "colab": {
          "base_uri": "https://localhost:8080/",
          "height": 34
        },
        "outputId": "0c821c68-2186-438d-edc9-85c41ba6979b"
      },
      "source": [
        "\n",
        "print (edits0('late'))"
      ],
      "execution_count": 56,
      "outputs": [
        {
          "output_type": "stream",
          "text": [
            "{'late'}\n"
          ],
          "name": "stdout"
        }
      ]
    },
    {
      "cell_type": "code",
      "metadata": {
        "id": "fNoe2uB5vpML",
        "colab_type": "code",
        "colab": {
          "base_uri": "https://localhost:8080/",
          "height": 54
        },
        "outputId": "e902f642-18e1-4f23-a726-fe6352239924"
      },
      "source": [
        "print (edits1('late'))\n"
      ],
      "execution_count": 55,
      "outputs": [
        {
          "output_type": "stream",
          "text": [
            "{'lete', 'latg', 'lave', 'lahte', 'laqe', 'tate', 'latie', 'llte', 'rlate', 'uate', 'lage', 'lamte', 'latbe', 'latke', 'latep', 'labte', 'latt', 'lyate', 'qate', 'lagte', 'layte', 'ldte', 'latl', 'lat', 'lxte', 'lafe', 'lati', 'lkate', 'lnte', 'latei', 'latc', 'lalte', 'latfe', 'lwte', 'lade', 'luate', 'nlate', 'lmte', 'latw', 'lawe', 'lgate', 'latce', 'klate', 'ltate', 'laie', 'ylate', 'ldate', 'lavte', 'latb', 'lante', 'latwe', 'lata', 'blate', 'latew', 'hate', 'lbte', 'lateg', 'lrte', 'laee', 'lake', 'lpate', 'latd', 'oate', 'flate', 'latel', 'aate', 'jate', 'lahe', 'nate', 'latze', 'dlate', 'lath', 'llate', 'laate', 'zlate', 'yate', 'latev', 'latee', 'clate', 'latme', 'pate', 'lazte', 'larte', 'laqte', 'laste', 'late', 'latj', 'latey', 'lae', 'latpe', 'vlate', 'lute', 'ilate', 'lfate', 'latem', 'lape', 'latej', 'lates', 'lfte', 'laute', 'latn', 'lrate', 'qlate', 'latve', 'lzte', 'latk', 'latea', 'lhte', 'lxate', 'latre', 'eate', 'slate', 'ljte', 'lwate', 'laite', 'lateq', 'lateo', 'laye', 'lace', 'lale', 'latp', 'lakte', 'latx', 'ladte', 'latex', 'latde', 'ljate', 'latqe', 'lbate', 'zate', 'wate', 'lvate', 'latu', 'mate', 'latek', 'latse', 'laze', 'lafte', 'lare', 'olate', 'lathe', 'laae', 'latec', 'laote', 'glate', 'xlate', 'lajte', 'laten', 'rate', 'lite', 'elate', 'latet', 'kate', 'vate', 'lated', 'ate', 'lacte', 'laete', 'laje', 'lane', 'lte', 'later', 'xate', 'latge', 'lapte', 'lats', 'lcate', 'iate', 'mlate', 'loate', 'lzate', 'latle', 'lyte', 'latue', 'latye', 'latef', 'labe', 'lmate', 'date', 'alte', 'lgte', 'cate', 'lase', 'laxte', 'latje', 'latq', 'gate', 'laet', 'latf', 'lkte', 'laty', 'wlate', 'lqate', 'fate', 'ulate', 'latr', 'sate', 'latz', 'lawte', 'lateu', 'laxe', 'lhate', 'bate', 'lvte', 'alate', 'latoe', 'leate', 'latez', 'lame', 'ltte', 'tlate', 'plate', 'lsate', 'latv', 'latm', 'lote', 'lato', 'liate', 'laue', 'latae', 'jlate', 'lnate', 'lateb', 'lateh', 'latne', 'lcte', 'latxe', 'lqte', 'latte', 'lste', 'lpte', 'hlate', 'ltae', 'laoe'}\n"
          ],
          "name": "stdout"
        }
      ]
    },
    {
      "cell_type": "code",
      "metadata": {
        "id": "5GEgsjwevtlr",
        "colab_type": "code",
        "colab": {
          "base_uri": "https://localhost:8080/",
          "height": 34
        },
        "outputId": "efb4885a-f3cb-4819-e5b1-1b58a7bd96a1"
      },
      "source": [
        "print (len(edits2('late')))\n"
      ],
      "execution_count": 57,
      "outputs": [
        {
          "output_type": "stream",
          "text": [
            "24254\n"
          ],
          "name": "stdout"
        }
      ]
    },
    {
      "cell_type": "code",
      "metadata": {
        "id": "z5vZZG4uv9Uy",
        "colab_type": "code",
        "colab": {}
      },
      "source": [
        "#map(correct, tokens('speech eis not good'))"
      ],
      "execution_count": 0,
      "outputs": []
    },
    {
      "cell_type": "markdown",
      "metadata": {
        "id": "1qVtY9H7wFUl",
        "colab_type": "text"
      },
      "source": [
        "Correct all the words within a text, returning the corrected text"
      ]
    },
    {
      "cell_type": "code",
      "metadata": {
        "id": "6dU84b6NwAgx",
        "colab_type": "code",
        "colab": {}
      },
      "source": [
        "def correct_text(text):\n",
        "    return re.sub('[a-zA-Z]+', correct_match, text)"
      ],
      "execution_count": 0,
      "outputs": []
    },
    {
      "cell_type": "markdown",
      "metadata": {
        "id": "-n-ojK7vwKg0",
        "colab_type": "text"
      },
      "source": [
        "Spell-correct word in match, and preserve proper upper/lower/title case"
      ]
    },
    {
      "cell_type": "code",
      "metadata": {
        "id": "b1A1IKWgwIQp",
        "colab_type": "code",
        "colab": {}
      },
      "source": [
        "def correct_match(match):\n",
        "    word = match.group()\n",
        "    return case_of(word)(correct(word.lower()))"
      ],
      "execution_count": 0,
      "outputs": []
    },
    {
      "cell_type": "markdown",
      "metadata": {
        "id": "-1yp34xVwNgo",
        "colab_type": "text"
      },
      "source": [
        "Return the case-function appropriate for text: upper, lower, title, or just str"
      ]
    },
    {
      "cell_type": "code",
      "metadata": {
        "id": "alyECtUKwM54",
        "colab_type": "code",
        "colab": {}
      },
      "source": [
        "def case_of(text):\n",
        "    return (str.upper if text.isupper() else\n",
        "            str.lower if text.islower() else\n",
        "            str.title if text.istitle() else\n",
        "            str)"
      ],
      "execution_count": 0,
      "outputs": []
    },
    {
      "cell_type": "code",
      "metadata": {
        "id": "VmeIFi_uwR2G",
        "colab_type": "code",
        "colab": {}
      },
      "source": [
        "#map(case_of, ['UPPER', 'lower', 'Title', 'CamelCase'])\n"
      ],
      "execution_count": 0,
      "outputs": []
    },
    {
      "cell_type": "markdown",
      "metadata": {
        "id": "zcTf3L30wXE2",
        "colab_type": "text"
      },
      "source": [
        "Testing"
      ]
    },
    {
      "cell_type": "code",
      "metadata": {
        "id": "0UTJJGnnwUDH",
        "colab_type": "code",
        "colab": {
          "base_uri": "https://localhost:8080/",
          "height": 34
        },
        "outputId": "d6fbcf7d-7082-47a4-c6e3-f34d089e45a2"
      },
      "source": [
        "correct_text('The spech was noot tht goad')\n"
      ],
      "execution_count": 64,
      "outputs": [
        {
          "output_type": "execute_result",
          "data": {
            "text/plain": [
              "'The speech was not the good'"
            ]
          },
          "metadata": {
            "tags": []
          },
          "execution_count": 64
        }
      ]
    },
    {
      "cell_type": "code",
      "metadata": {
        "id": "QxdYcnKKwsXb",
        "colab_type": "code",
        "colab": {
          "base_uri": "https://localhost:8080/",
          "height": 34
        },
        "outputId": "f28ec50b-95fb-4677-8379-c38a76bfc049"
      },
      "source": [
        "correct_text('I amm tesing the packag')"
      ],
      "execution_count": 71,
      "outputs": [
        {
          "output_type": "execute_result",
          "data": {
            "text/plain": [
              "'I am testing the package'"
            ]
          },
          "metadata": {
            "tags": []
          },
          "execution_count": 71
        }
      ]
    },
    {
      "cell_type": "code",
      "metadata": {
        "id": "qBfSHnJcwxAA",
        "colab_type": "code",
        "colab": {}
      },
      "source": [
        ""
      ],
      "execution_count": 0,
      "outputs": []
    }
  ]
}